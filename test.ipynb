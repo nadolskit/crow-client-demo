{
 "cells": [
  {
   "cell_type": "code",
   "execution_count": 1,
   "metadata": {},
   "outputs": [],
   "source": [
    "from pathlib import Path\n",
    "from crow_client import CrowClient"
   ]
  },
  {
   "cell_type": "code",
   "execution_count": 2,
   "metadata": {},
   "outputs": [],
   "source": [
    "client = CrowClient()"
   ]
  },
  {
   "cell_type": "code",
   "execution_count": 6,
   "metadata": {},
   "outputs": [
    {
     "data": {
      "text/plain": [
       "{'build_id': '978fbf58-ed98-4ae0-abad-838f81823f0b',\n",
       " 'image_uri': 'us-west2-docker.pkg.dev/agents-441015/crow-job-dev/crow-test-client:timestamp-20241209-223223',\n",
       " 'logs_uri': 'https://console.cloud.google.com/cloud-build/builds;region=us-west2/978fbf58-ed98-4ae0-abad-838f81823f0b?project=209212876053',\n",
       " 'job_name': 'crow-test-client'}"
      ]
     },
     "execution_count": 6,
     "metadata": {},
     "output_type": "execute_result"
    }
   ],
   "source": [
    "client.create_crow(\n",
    "    path=Path(\"./crow-test-client\"),\n",
    "    environment=\"crow-test-client.env.DummyEnv\",\n",
    "    requires_aviary_internal=False,\n",
    "    environment_variables={\"SAMPLE_ENV_VAR\": \"sample_val\"},\n",
    "    agent=\"ldp.agent.SimpleAgent\",\n",
    ")"
   ]
  },
  {
   "cell_type": "code",
   "execution_count": 7,
   "metadata": {},
   "outputs": [
    {
     "data": {
      "text/plain": [
       "{'id': '978fbf58-ed98-4ae0-abad-838f81823f0b',\n",
       " 'name': 'projects/209212876053/locations/us-west2/builds/978fbf58-ed98-4ae0-abad-838f81823f0b',\n",
       " 'user': 'tyler@futurehouse.org',\n",
       " 'status': 'WORKING',\n",
       " 'logs_uri': 'https://console.cloud.google.com/cloud-build/builds;region=us-west2/978fbf58-ed98-4ae0-abad-838f81823f0b?project=209212876053',\n",
       " 'updated_at': '2024-12-09T22:34:10.628169',\n",
       " 'created_at': '2024-12-09T22:32:25.199177'}"
      ]
     },
     "execution_count": 7,
     "metadata": {},
     "output_type": "execute_result"
    }
   ],
   "source": [
    "client.get_build_status()"
   ]
  },
  {
   "cell_type": "code",
   "execution_count": null,
   "metadata": {},
   "outputs": [],
   "source": [
    "query = \"How many moons does Earth have?\"\n",
    "job_data = {\"name\": \"crow-test-client\", \"query\": query}\n",
    "client.create_job(job_data)"
   ]
  },
  {
   "cell_type": "code",
   "execution_count": null,
   "metadata": {},
   "outputs": [],
   "source": [
    "client.get_job()"
   ]
  }
 ],
 "metadata": {
  "kernelspec": {
   "display_name": ".venv",
   "language": "python",
   "name": "python3"
  },
  "language_info": {
   "codemirror_mode": {
    "name": "ipython",
    "version": 3
   },
   "file_extension": ".py",
   "mimetype": "text/x-python",
   "name": "python",
   "nbconvert_exporter": "python",
   "pygments_lexer": "ipython3",
   "version": "3.12.4"
  }
 },
 "nbformat": 4,
 "nbformat_minor": 2
}
